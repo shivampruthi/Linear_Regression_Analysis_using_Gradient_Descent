{
 "cells": [
  {
   "cell_type": "code",
   "execution_count": 3,
   "id": "c76ee9f1",
   "metadata": {},
   "outputs": [],
   "source": [
    "import numpy as np"
   ]
  },
  {
   "cell_type": "code",
   "execution_count": 4,
   "id": "ab2070a1",
   "metadata": {},
   "outputs": [
    {
     "data": {
      "text/plain": [
       "(100, 2)"
      ]
     },
     "execution_count": 4,
     "metadata": {},
     "output_type": "execute_result"
    }
   ],
   "source": [
    "data = np.loadtxt(\"/Users/shivampruthi/Downloads/0000000000000836/data.csv\", delimiter = ',')\n",
    "data.shape"
   ]
  },
  {
   "cell_type": "code",
   "execution_count": 10,
   "id": "5d23fc84",
   "metadata": {},
   "outputs": [],
   "source": [
    "def step_gradient(points, learning_rate, m, c):\n",
    "    m_slope = 0\n",
    "    c_slope = 0\n",
    "    M = len(points)\n",
    "    \n",
    "    for i in range(M):\n",
    "        x = points[i, 0]\n",
    "        y = points[i, 1]\n",
    "        \n",
    "        m_slope += (-2/M) * (y - m * x - c) * x\n",
    "        c_slope += (-2/M) * (y - m * x - c)\n",
    "        \n",
    "    new_m = m - learning_rate * m_slope\n",
    "    new_c = c - learning_rate * c_slope\n",
    "    \n",
    "    return new_m, new_c"
   ]
  },
  {
   "cell_type": "code",
   "execution_count": 17,
   "id": "71cde892",
   "metadata": {},
   "outputs": [],
   "source": [
    "def gd(points, learning_rate, num_iterations):\n",
    "    m = 0\n",
    "    c = 0\n",
    "    \n",
    "    for i in range(num_iterations):\n",
    "        m, c = step_gradient(points, learning_rate, m, c)\n",
    "        print(f\"This is the {i + 1} th iteration and the corresponding cost is {cost(points, m, c)}\")\n",
    "        \n",
    "    return m, c"
   ]
  },
  {
   "cell_type": "code",
   "execution_count": 12,
   "id": "ddd80670",
   "metadata": {},
   "outputs": [],
   "source": [
    "def cost(points, m, c):\n",
    "    total_cost = 0\n",
    "    M = len(points)\n",
    "    \n",
    "    for i in range(M):\n",
    "        x = points[i, 0]\n",
    "        y = points[i, 1]\n",
    "        \n",
    "        total_cost += (1/M) * ((y - m * x - c)) ** 2\n",
    "        \n",
    "    return total_cost"
   ]
  },
  {
   "cell_type": "code",
   "execution_count": 19,
   "id": "bdd766c1",
   "metadata": {},
   "outputs": [],
   "source": [
    "def run():\n",
    "    data = np.loadtxt(\"/Users/shivampruthi/Downloads/0000000000000836/data.csv\", delimiter = ',')\n",
    "    learning_rate = 0.0001\n",
    "    num_iterations = 20\n",
    "    \n",
    "    m, c = gd(data, learning_rate, num_iterations)\n",
    "    print(m, c)"
   ]
  },
  {
   "cell_type": "code",
   "execution_count": 20,
   "id": "94b9f4af",
   "metadata": {},
   "outputs": [
    {
     "name": "stdout",
     "output_type": "stream",
     "text": [
      "This is the 1 th iteration and the corresponding cost is 1484.5865574086486\n",
      "This is the 2 th iteration and the corresponding cost is 457.8542575737672\n",
      "This is the 3 th iteration and the corresponding cost is 199.5099857255389\n",
      "This is the 4 th iteration and the corresponding cost is 134.50591058200533\n",
      "This is the 5 th iteration and the corresponding cost is 118.1496934223995\n",
      "This is the 6 th iteration and the corresponding cost is 114.0341490603815\n",
      "This is the 7 th iteration and the corresponding cost is 112.99857731713657\n",
      "This is the 8 th iteration and the corresponding cost is 112.73798187568467\n",
      "This is the 9 th iteration and the corresponding cost is 112.6723843590911\n",
      "This is the 10 th iteration and the corresponding cost is 112.65585181499745\n",
      "This is the 11 th iteration and the corresponding cost is 112.65166489759581\n",
      "This is the 12 th iteration and the corresponding cost is 112.6505843615011\n",
      "This is the 13 th iteration and the corresponding cost is 112.65028544701502\n",
      "This is the 14 th iteration and the corresponding cost is 112.65018320293967\n",
      "This is the 15 th iteration and the corresponding cost is 112.650130445072\n",
      "This is the 16 th iteration and the corresponding cost is 112.65009013922885\n",
      "This is the 17 th iteration and the corresponding cost is 112.6500529669463\n",
      "This is the 18 th iteration and the corresponding cost is 112.65001658353178\n",
      "This is the 19 th iteration and the corresponding cost is 112.64998039901865\n",
      "This is the 20 th iteration and the corresponding cost is 112.64994426496071\n",
      "1.478895662279729 0.030269517287775903\n"
     ]
    }
   ],
   "source": [
    "run()"
   ]
  }
 ],
 "metadata": {
  "kernelspec": {
   "display_name": "Python 3 (ipykernel)",
   "language": "python",
   "name": "python3"
  },
  "language_info": {
   "codemirror_mode": {
    "name": "ipython",
    "version": 3
   },
   "file_extension": ".py",
   "mimetype": "text/x-python",
   "name": "python",
   "nbconvert_exporter": "python",
   "pygments_lexer": "ipython3",
   "version": "3.11.4"
  }
 },
 "nbformat": 4,
 "nbformat_minor": 5
}
